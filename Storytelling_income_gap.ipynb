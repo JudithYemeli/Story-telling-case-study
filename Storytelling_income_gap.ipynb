{
 "cells": [
  {
   "cell_type": "markdown",
   "id": "303bc37b",
   "metadata": {},
   "source": [
    "# Women income gap"
   ]
  },
  {
   "cell_type": "markdown",
   "id": "8ef722d7",
   "metadata": {},
   "source": [
    "The objective of the this analysis is to understand the income gap between women and woman and what actions women can take to increase their income"
   ]
  },
  {
   "cell_type": "markdown",
   "id": "c5f697e4",
   "metadata": {},
   "source": [
    "## Imports"
   ]
  },
  {
   "cell_type": "code",
   "execution_count": 1,
   "id": "2019b1b6",
   "metadata": {},
   "outputs": [],
   "source": [
    "import pandas as pd\n",
    "import matplotlib.pyplot as plt\n",
    "import seaborn as sns\n",
    "import numpy as np"
   ]
  },
  {
   "cell_type": "markdown",
   "id": "c6c3f937",
   "metadata": {},
   "source": [
    "## Loading data"
   ]
  },
  {
   "cell_type": "code",
   "execution_count": 2,
   "id": "ac7a9531",
   "metadata": {},
   "outputs": [
    {
     "data": {
      "text/html": [
       "<div>\n",
       "<style scoped>\n",
       "    .dataframe tbody tr th:only-of-type {\n",
       "        vertical-align: middle;\n",
       "    }\n",
       "\n",
       "    .dataframe tbody tr th {\n",
       "        vertical-align: top;\n",
       "    }\n",
       "\n",
       "    .dataframe thead th {\n",
       "        text-align: right;\n",
       "    }\n",
       "</style>\n",
       "<table border=\"1\" class=\"dataframe\">\n",
       "  <thead>\n",
       "    <tr style=\"text-align: right;\">\n",
       "      <th></th>\n",
       "      <th>age</th>\n",
       "      <th>workclass</th>\n",
       "      <th>fnlwgt</th>\n",
       "      <th>education</th>\n",
       "      <th>educational-num</th>\n",
       "      <th>marital-status</th>\n",
       "      <th>occupation</th>\n",
       "      <th>relationship</th>\n",
       "      <th>race</th>\n",
       "      <th>gender</th>\n",
       "      <th>capital-gain</th>\n",
       "      <th>capital-loss</th>\n",
       "      <th>hours-per-week</th>\n",
       "      <th>native-country</th>\n",
       "      <th>income</th>\n",
       "    </tr>\n",
       "  </thead>\n",
       "  <tbody>\n",
       "    <tr>\n",
       "      <th>0</th>\n",
       "      <td>25</td>\n",
       "      <td>Private</td>\n",
       "      <td>226802</td>\n",
       "      <td>11th</td>\n",
       "      <td>7</td>\n",
       "      <td>Never-married</td>\n",
       "      <td>Machine-op-inspct</td>\n",
       "      <td>Own-child</td>\n",
       "      <td>Black</td>\n",
       "      <td>Male</td>\n",
       "      <td>0</td>\n",
       "      <td>0</td>\n",
       "      <td>40</td>\n",
       "      <td>United-States</td>\n",
       "      <td>&lt;=50K</td>\n",
       "    </tr>\n",
       "    <tr>\n",
       "      <th>1</th>\n",
       "      <td>38</td>\n",
       "      <td>Private</td>\n",
       "      <td>89814</td>\n",
       "      <td>HS-grad</td>\n",
       "      <td>9</td>\n",
       "      <td>Married-civ-spouse</td>\n",
       "      <td>Farming-fishing</td>\n",
       "      <td>Husband</td>\n",
       "      <td>White</td>\n",
       "      <td>Male</td>\n",
       "      <td>0</td>\n",
       "      <td>0</td>\n",
       "      <td>50</td>\n",
       "      <td>United-States</td>\n",
       "      <td>&lt;=50K</td>\n",
       "    </tr>\n",
       "    <tr>\n",
       "      <th>2</th>\n",
       "      <td>28</td>\n",
       "      <td>Local-gov</td>\n",
       "      <td>336951</td>\n",
       "      <td>Assoc-acdm</td>\n",
       "      <td>12</td>\n",
       "      <td>Married-civ-spouse</td>\n",
       "      <td>Protective-serv</td>\n",
       "      <td>Husband</td>\n",
       "      <td>White</td>\n",
       "      <td>Male</td>\n",
       "      <td>0</td>\n",
       "      <td>0</td>\n",
       "      <td>40</td>\n",
       "      <td>United-States</td>\n",
       "      <td>&gt;50K</td>\n",
       "    </tr>\n",
       "    <tr>\n",
       "      <th>3</th>\n",
       "      <td>44</td>\n",
       "      <td>Private</td>\n",
       "      <td>160323</td>\n",
       "      <td>Some-college</td>\n",
       "      <td>10</td>\n",
       "      <td>Married-civ-spouse</td>\n",
       "      <td>Machine-op-inspct</td>\n",
       "      <td>Husband</td>\n",
       "      <td>Black</td>\n",
       "      <td>Male</td>\n",
       "      <td>7688</td>\n",
       "      <td>0</td>\n",
       "      <td>40</td>\n",
       "      <td>United-States</td>\n",
       "      <td>&gt;50K</td>\n",
       "    </tr>\n",
       "    <tr>\n",
       "      <th>4</th>\n",
       "      <td>18</td>\n",
       "      <td>?</td>\n",
       "      <td>103497</td>\n",
       "      <td>Some-college</td>\n",
       "      <td>10</td>\n",
       "      <td>Never-married</td>\n",
       "      <td>?</td>\n",
       "      <td>Own-child</td>\n",
       "      <td>White</td>\n",
       "      <td>Female</td>\n",
       "      <td>0</td>\n",
       "      <td>0</td>\n",
       "      <td>30</td>\n",
       "      <td>United-States</td>\n",
       "      <td>&lt;=50K</td>\n",
       "    </tr>\n",
       "  </tbody>\n",
       "</table>\n",
       "</div>"
      ],
      "text/plain": [
       "   age  workclass  fnlwgt     education  educational-num      marital-status  \\\n",
       "0   25    Private  226802          11th                7       Never-married   \n",
       "1   38    Private   89814       HS-grad                9  Married-civ-spouse   \n",
       "2   28  Local-gov  336951    Assoc-acdm               12  Married-civ-spouse   \n",
       "3   44    Private  160323  Some-college               10  Married-civ-spouse   \n",
       "4   18          ?  103497  Some-college               10       Never-married   \n",
       "\n",
       "          occupation relationship   race  gender  capital-gain  capital-loss  \\\n",
       "0  Machine-op-inspct    Own-child  Black    Male             0             0   \n",
       "1    Farming-fishing      Husband  White    Male             0             0   \n",
       "2    Protective-serv      Husband  White    Male             0             0   \n",
       "3  Machine-op-inspct      Husband  Black    Male          7688             0   \n",
       "4                  ?    Own-child  White  Female             0             0   \n",
       "\n",
       "   hours-per-week native-country income  \n",
       "0              40  United-States  <=50K  \n",
       "1              50  United-States  <=50K  \n",
       "2              40  United-States   >50K  \n",
       "3              40  United-States   >50K  \n",
       "4              30  United-States  <=50K  "
      ]
     },
     "execution_count": 2,
     "metadata": {},
     "output_type": "execute_result"
    }
   ],
   "source": [
    "data = pd.read_csv('adult.csv')\n",
    "data.head()"
   ]
  },
  {
   "cell_type": "code",
   "execution_count": 3,
   "id": "ecbd3b9c",
   "metadata": {},
   "outputs": [
    {
     "data": {
      "text/plain": [
       "(48842, 15)"
      ]
     },
     "execution_count": 3,
     "metadata": {},
     "output_type": "execute_result"
    }
   ],
   "source": [
    "data.shape"
   ]
  },
  {
   "cell_type": "code",
   "execution_count": 4,
   "id": "53824e31",
   "metadata": {},
   "outputs": [
    {
     "data": {
      "text/plain": [
       "Index(['age', 'workclass', 'fnlwgt', 'education', 'educational-num',\n",
       "       'marital-status', 'occupation', 'relationship', 'race', 'gender',\n",
       "       'capital-gain', 'capital-loss', 'hours-per-week', 'native-country',\n",
       "       'income'],\n",
       "      dtype='object')"
      ]
     },
     "execution_count": 4,
     "metadata": {},
     "output_type": "execute_result"
    }
   ],
   "source": [
    "data.columns"
   ]
  },
  {
   "cell_type": "code",
   "execution_count": 5,
   "id": "377fb124",
   "metadata": {},
   "outputs": [],
   "source": [
    "#Changing the columns name having '-' into '_' to ease the computation\n",
    "col = ['age', 'workclass', 'fnlwgt', 'education', 'educational-num',\n",
    "       'marital-status', 'occupation', 'relationship', 'race', 'gender',\n",
    "       'capital-gain', 'capital-loss', 'hours-per-week', 'native-country',\n",
    "       'income']\n",
    "\n",
    "for ind, val in enumerate(col):\n",
    "    for j in val:\n",
    "        if '-' in j:\n",
    "           col[ind] = val.replace('-', '_')"
   ]
  },
  {
   "cell_type": "code",
   "execution_count": 6,
   "id": "b2ff197f",
   "metadata": {},
   "outputs": [
    {
     "name": "stdout",
     "output_type": "stream",
     "text": [
      "<class 'pandas.core.frame.DataFrame'>\n",
      "RangeIndex: 48842 entries, 0 to 48841\n",
      "Data columns (total 15 columns):\n",
      " #   Column           Non-Null Count  Dtype \n",
      "---  ------           --------------  ----- \n",
      " 0   age              48842 non-null  int64 \n",
      " 1   workclass        48842 non-null  object\n",
      " 2   fnlwgt           48842 non-null  int64 \n",
      " 3   education        48842 non-null  object\n",
      " 4   educational_num  48842 non-null  int64 \n",
      " 5   marital_status   48842 non-null  object\n",
      " 6   occupation       48842 non-null  object\n",
      " 7   relationship     48842 non-null  object\n",
      " 8   race             48842 non-null  object\n",
      " 9   gender           48842 non-null  object\n",
      " 10  capital_gain     48842 non-null  int64 \n",
      " 11  capital_loss     48842 non-null  int64 \n",
      " 12  hours_per_week   48842 non-null  int64 \n",
      " 13  native_country   48842 non-null  object\n",
      " 14  income           48842 non-null  object\n",
      "dtypes: int64(6), object(9)\n",
      "memory usage: 5.6+ MB\n"
     ]
    }
   ],
   "source": [
    "# Reassagning the new names to the data frame\n",
    "data.columns = col\n",
    "data.info()"
   ]
  },
  {
   "cell_type": "markdown",
   "id": "fac8ea27",
   "metadata": {},
   "source": [
    "## Exploratory Data Analysis"
   ]
  },
  {
   "cell_type": "markdown",
   "id": "f1bc05aa",
   "metadata": {},
   "source": [
    "### Income gap analysis"
   ]
  },
  {
   "cell_type": "code",
   "execution_count": 8,
   "id": "fb8aee93",
   "metadata": {},
   "outputs": [
    {
     "data": {
      "text/plain": [
       "<seaborn.axisgrid.FacetGrid at 0x11f7bc650>"
      ]
     },
     "execution_count": 8,
     "metadata": {},
     "output_type": "execute_result"
    },
    {
     "data": {
      "image/png": "[encoded data removed]",
      "text/plain": [
       "<Figure size 360x360 with 1 Axes>"
      ]
     },
     "metadata": {
      "needs_background": "light"
     },
     "output_type": "display_data"
    }
   ],
   "source": [
    "sns.displot(data.income)"
   ]
  },
  {
   "cell_type": "code",
   "execution_count": 7,
   "id": "4df7399e",
   "metadata": {},
   "outputs": [
    {
     "data": {
      "text/plain": [
       "<AxesSubplot:xlabel='gender', ylabel='count'>"
      ]
     },
     "execution_count": 7,
     "metadata": {},
     "output_type": "execute_result"
    },
    {
     "data": {
      "image/png": "[encoded data removed]",
      "text/plain": [
       "<Figure size 432x288 with 1 Axes>"
      ]
     },
     "metadata": {
      "needs_background": "light"
     },
     "output_type": "display_data"
    }
   ],
   "source": [
    "sns.countplot( x = 'gender', hue = 'income', data = data)"
   ]
  },
  {
   "cell_type": "code",
   "execution_count": 9,
   "id": "4cdca1e2",
   "metadata": {},
   "outputs": [],
   "source": [
    "# Subsegmenting data to fit the comparisons\n",
    "high_income = data[data['income'] == '>50K']\n",
    "women= data[data['gender']=='Female']\n",
    "men = data[data['gender']=='Female']"
   ]
  },
  {
   "cell_type": "code",
   "execution_count": 10,
   "id": "5e6dc601",
   "metadata": {},
   "outputs": [
    {
     "data": {
      "text/html": [
       "<div>\n",
       "<style scoped>\n",
       "    .dataframe tbody tr th:only-of-type {\n",
       "        vertical-align: middle;\n",
       "    }\n",
       "\n",
       "    .dataframe tbody tr th {\n",
       "        vertical-align: top;\n",
       "    }\n",
       "\n",
       "    .dataframe thead th {\n",
       "        text-align: right;\n",
       "    }\n",
       "</style>\n",
       "<table border=\"1\" class=\"dataframe\">\n",
       "  <thead>\n",
       "    <tr style=\"text-align: right;\">\n",
       "      <th></th>\n",
       "      <th>&lt;=50K</th>\n",
       "      <th>&gt;50K</th>\n",
       "      <th>total</th>\n",
       "      <th>weight</th>\n",
       "    </tr>\n",
       "  </thead>\n",
       "  <tbody>\n",
       "    <tr>\n",
       "      <th>women</th>\n",
       "      <td>14423</td>\n",
       "      <td>1769</td>\n",
       "      <td>16192</td>\n",
       "      <td>0.109251</td>\n",
       "    </tr>\n",
       "    <tr>\n",
       "      <th>men</th>\n",
       "      <td>14423</td>\n",
       "      <td>1769</td>\n",
       "      <td>16192</td>\n",
       "      <td>0.109251</td>\n",
       "    </tr>\n",
       "  </tbody>\n",
       "</table>\n",
       "</div>"
      ],
      "text/plain": [
       "       <=50K  >50K  total    weight\n",
       "women  14423  1769  16192  0.109251\n",
       "men    14423  1769  16192  0.109251"
      ]
     },
     "execution_count": 10,
     "metadata": {},
     "output_type": "execute_result"
    }
   ],
   "source": [
    "w = women.income.value_counts()\n",
    "m = men.income.value_counts()\n",
    "gap = pd.DataFrame([w, m], index = ['women', 'men'])\n",
    "gap['total'] = gap['>50K'] + gap['<=50K']\n",
    "gap['weight'] = gap['>50K'] / gap['total']\n",
    "gap.head()"
   ]
  },
  {
   "cell_type": "markdown",
   "id": "55fa678b",
   "metadata": {},
   "source": [
    "### Correlation analysis"
   ]
  },
  {
   "cell_type": "code",
   "execution_count": 13,
   "id": "acda4dfb",
   "metadata": {},
   "outputs": [],
   "source": [
    "data_clean = pd.get_dummies(data)\n",
    "corr = data_clean.corr()\n",
    "income_corr = corr['income_>50K']\n",
    "income_corr = income.sort_values(ascending = False)\n",
    "income_corr= pd.DataFrame(rel)"
   ]
  },
  {
   "cell_type": "code",
   "execution_count": 15,
   "id": "98c211f6",
   "metadata": {},
   "outputs": [
    {
     "data": {
      "text/html": [
       "<div>\n",
       "<style scoped>\n",
       "    .dataframe tbody tr th:only-of-type {\n",
       "        vertical-align: middle;\n",
       "    }\n",
       "\n",
       "    .dataframe tbody tr th {\n",
       "        vertical-align: top;\n",
       "    }\n",
       "\n",
       "    .dataframe thead th {\n",
       "        text-align: right;\n",
       "    }\n",
       "</style>\n",
       "<table border=\"1\" class=\"dataframe\">\n",
       "  <thead>\n",
       "    <tr style=\"text-align: right;\">\n",
       "      <th></th>\n",
       "      <th>income_&gt;50K</th>\n",
       "    </tr>\n",
       "  </thead>\n",
       "  <tbody>\n",
       "    <tr>\n",
       "      <th>income_&gt;50K</th>\n",
       "      <td>1.000000</td>\n",
       "    </tr>\n",
       "    <tr>\n",
       "      <th>marital_status_Married-civ-spouse</th>\n",
       "      <td>0.445853</td>\n",
       "    </tr>\n",
       "    <tr>\n",
       "      <th>relationship_Husband</th>\n",
       "      <td>0.403791</td>\n",
       "    </tr>\n",
       "    <tr>\n",
       "      <th>educational_num</th>\n",
       "      <td>0.332613</td>\n",
       "    </tr>\n",
       "    <tr>\n",
       "      <th>age</th>\n",
       "      <td>0.230369</td>\n",
       "    </tr>\n",
       "    <tr>\n",
       "      <th>hours_per_week</th>\n",
       "      <td>0.227687</td>\n",
       "    </tr>\n",
       "    <tr>\n",
       "      <th>capital_gain</th>\n",
       "      <td>0.223013</td>\n",
       "    </tr>\n",
       "    <tr>\n",
       "      <th>gender_Male</th>\n",
       "      <td>0.214628</td>\n",
       "    </tr>\n",
       "    <tr>\n",
       "      <th>occupation_Exec-managerial</th>\n",
       "      <td>0.210938</td>\n",
       "    </tr>\n",
       "    <tr>\n",
       "      <th>occupation_Prof-specialty</th>\n",
       "      <td>0.188793</td>\n",
       "    </tr>\n",
       "    <tr>\n",
       "      <th>education_Bachelors</th>\n",
       "      <td>0.180371</td>\n",
       "    </tr>\n",
       "    <tr>\n",
       "      <th>education_Masters</th>\n",
       "      <td>0.174184</td>\n",
       "    </tr>\n",
       "    <tr>\n",
       "      <th>education_Prof-school</th>\n",
       "      <td>0.154627</td>\n",
       "    </tr>\n",
       "    <tr>\n",
       "      <th>capital_loss</th>\n",
       "      <td>0.147554</td>\n",
       "    </tr>\n",
       "    <tr>\n",
       "      <th>workclass_Self-emp-inc</th>\n",
       "      <td>0.139596</td>\n",
       "    </tr>\n",
       "  </tbody>\n",
       "</table>\n",
       "</div>"
      ],
      "text/plain": [
       "                                   income_>50K\n",
       "income_>50K                           1.000000\n",
       "marital_status_Married-civ-spouse     0.445853\n",
       "relationship_Husband                  0.403791\n",
       "educational_num                       0.332613\n",
       "age                                   0.230369\n",
       "hours_per_week                        0.227687\n",
       "capital_gain                          0.223013\n",
       "gender_Male                           0.214628\n",
       "occupation_Exec-managerial            0.210938\n",
       "occupation_Prof-specialty             0.188793\n",
       "education_Bachelors                   0.180371\n",
       "education_Masters                     0.174184\n",
       "education_Prof-school                 0.154627\n",
       "capital_loss                          0.147554\n",
       "workclass_Self-emp-inc                0.139596"
      ]
     },
     "execution_count": 15,
     "metadata": {},
     "output_type": "execute_result"
    }
   ],
   "source": [
    "income_corr.head(15)"
   ]
  },
  {
   "cell_type": "code",
   "execution_count": 16,
   "id": "5a1d0d2d",
   "metadata": {},
   "outputs": [
    {
     "data": {
      "text/html": [
       "<div>\n",
       "<style scoped>\n",
       "    .dataframe tbody tr th:only-of-type {\n",
       "        vertical-align: middle;\n",
       "    }\n",
       "\n",
       "    .dataframe tbody tr th {\n",
       "        vertical-align: top;\n",
       "    }\n",
       "\n",
       "    .dataframe thead th {\n",
       "        text-align: right;\n",
       "    }\n",
       "</style>\n",
       "<table border=\"1\" class=\"dataframe\">\n",
       "  <thead>\n",
       "    <tr style=\"text-align: right;\">\n",
       "      <th></th>\n",
       "      <th>income_&gt;50K</th>\n",
       "    </tr>\n",
       "  </thead>\n",
       "  <tbody>\n",
       "    <tr>\n",
       "      <th>occupation_?</th>\n",
       "      <td>-0.083921</td>\n",
       "    </tr>\n",
       "    <tr>\n",
       "      <th>occupation_Handlers-cleaners</th>\n",
       "      <td>-0.085189</td>\n",
       "    </tr>\n",
       "    <tr>\n",
       "      <th>relationship_Other-relative</th>\n",
       "      <td>-0.085601</td>\n",
       "    </tr>\n",
       "    <tr>\n",
       "      <th>occupation_Adm-clerical</th>\n",
       "      <td>-0.086475</td>\n",
       "    </tr>\n",
       "    <tr>\n",
       "      <th>education_11th</th>\n",
       "      <td>-0.086728</td>\n",
       "    </tr>\n",
       "    <tr>\n",
       "      <th>race_Black</th>\n",
       "      <td>-0.090448</td>\n",
       "    </tr>\n",
       "    <tr>\n",
       "      <th>marital_status_Divorced</th>\n",
       "      <td>-0.128335</td>\n",
       "    </tr>\n",
       "    <tr>\n",
       "      <th>education_HS-grad</th>\n",
       "      <td>-0.130706</td>\n",
       "    </tr>\n",
       "    <tr>\n",
       "      <th>relationship_Unmarried</th>\n",
       "      <td>-0.143642</td>\n",
       "    </tr>\n",
       "    <tr>\n",
       "      <th>occupation_Other-service</th>\n",
       "      <td>-0.155254</td>\n",
       "    </tr>\n",
       "    <tr>\n",
       "      <th>relationship_Not-in-family</th>\n",
       "      <td>-0.190372</td>\n",
       "    </tr>\n",
       "    <tr>\n",
       "      <th>gender_Female</th>\n",
       "      <td>-0.214628</td>\n",
       "    </tr>\n",
       "    <tr>\n",
       "      <th>relationship_Own-child</th>\n",
       "      <td>-0.225691</td>\n",
       "    </tr>\n",
       "    <tr>\n",
       "      <th>marital_status_Never-married</th>\n",
       "      <td>-0.318782</td>\n",
       "    </tr>\n",
       "    <tr>\n",
       "      <th>income_&lt;=50K</th>\n",
       "      <td>-1.000000</td>\n",
       "    </tr>\n",
       "  </tbody>\n",
       "</table>\n",
       "</div>"
      ],
      "text/plain": [
       "                              income_>50K\n",
       "occupation_?                    -0.083921\n",
       "occupation_Handlers-cleaners    -0.085189\n",
       "relationship_Other-relative     -0.085601\n",
       "occupation_Adm-clerical         -0.086475\n",
       "education_11th                  -0.086728\n",
       "race_Black                      -0.090448\n",
       "marital_status_Divorced         -0.128335\n",
       "education_HS-grad               -0.130706\n",
       "relationship_Unmarried          -0.143642\n",
       "occupation_Other-service        -0.155254\n",
       "relationship_Not-in-family      -0.190372\n",
       "gender_Female                   -0.214628\n",
       "relationship_Own-child          -0.225691\n",
       "marital_status_Never-married    -0.318782\n",
       "income_<=50K                    -1.000000"
      ]
     },
     "execution_count": 16,
     "metadata": {},
     "output_type": "execute_result"
    }
   ],
   "source": [
    "income_corr.tail(15)"
   ]
  },
  {
   "cell_type": "markdown",
   "id": "33bfd39e",
   "metadata": {},
   "source": [
    "### Feature analysis - age"
   ]
  },
  {
   "cell_type": "code",
   "execution_count": 22,
   "id": "f21d1702",
   "metadata": {},
   "outputs": [
    {
     "name": "stderr",
     "output_type": "stream",
     "text": [
      "/Users/judith/opt/anaconda3/lib/python3.7/site-packages/seaborn/distributions.py:2557: FutureWarning: `distplot` is a deprecated function and will be removed in a future version. Please adapt your code to use either `displot` (a figure-level function with similar flexibility) or `histplot` (an axes-level function for histograms).\n",
      "  warnings.warn(msg, FutureWarning)\n"
     ]
    },
    {
     "data": {
      "text/plain": [
       "Text(0.5, 1.0, 'Age distribution for high income')"
      ]
     },
     "execution_count": 22,
     "metadata": {},
     "output_type": "execute_result"
    },
    {
     "data": {
      "image/png": "[encoded data removed]",
      "text/plain": [
       "<Figure size 432x288 with 1 Axes>"
      ]
     },
     "metadata": {
      "needs_background": "light"
     },
     "output_type": "display_data"
    }
   ],
   "source": [
    "sns.distplot(high_income.age)\n",
    "plt.title('Age distribution for high income')"
   ]
  },
  {
   "cell_type": "code",
   "execution_count": 20,
   "id": "0158faff",
   "metadata": {},
   "outputs": [
    {
     "name": "stderr",
     "output_type": "stream",
     "text": [
      "/Users/judith/opt/anaconda3/lib/python3.7/site-packages/seaborn/distributions.py:2557: FutureWarning: `distplot` is a deprecated function and will be removed in a future version. Please adapt your code to use either `displot` (a figure-level function with similar flexibility) or `histplot` (an axes-level function for histograms).\n",
      "  warnings.warn(msg, FutureWarning)\n"
     ]
    },
    {
     "data": {
      "text/plain": [
       "Text(0.5, 1.0, 'Age distribution for women in workforce')"
      ]
     },
     "execution_count": 20,
     "metadata": {},
     "output_type": "execute_result"
    },
    {
     "data": {
      "image/png": "[encoded data removed]",
      "text/plain": [
       "<Figure size 432x288 with 1 Axes>"
      ]
     },
     "metadata": {
      "needs_background": "light"
     },
     "output_type": "display_data"
    }
   ],
   "source": []
  },
  {
   "cell_type": "code",
   "execution_count": 56,
   "id": "a320ec74",
   "metadata": {},
   "outputs": [],
   "source": [
    "edu = high_income.groupby(['education', 'gender']).size().reset_index().pivot(columns = 'gender',\n",
    "                                                                                 index = 'education',\n",
    "                                                                                 values = 0)"
   ]
  },
  {
   "cell_type": "code",
   "execution_count": 66,
   "id": "be39687c",
   "metadata": {},
   "outputs": [],
   "source": [
    "edu['tot'] = edu['Female'] + edu['Male']\n",
    "edu['perc']= edu['Female'] /edu['tot']"
   ]
  },
  {
   "cell_type": "code",
   "execution_count": 67,
   "id": "9a68a3de",
   "metadata": {},
   "outputs": [
    {
     "data": {
      "text/html": [
       "<div>\n",
       "<style scoped>\n",
       "    .dataframe tbody tr th:only-of-type {\n",
       "        vertical-align: middle;\n",
       "    }\n",
       "\n",
       "    .dataframe tbody tr th {\n",
       "        vertical-align: top;\n",
       "    }\n",
       "\n",
       "    .dataframe thead th {\n",
       "        text-align: right;\n",
       "    }\n",
       "</style>\n",
       "<table border=\"1\" class=\"dataframe\">\n",
       "  <thead>\n",
       "    <tr style=\"text-align: right;\">\n",
       "      <th>gender</th>\n",
       "      <th>Female</th>\n",
       "      <th>Male</th>\n",
       "      <th>tot</th>\n",
       "      <th>perc</th>\n",
       "    </tr>\n",
       "    <tr>\n",
       "      <th>education</th>\n",
       "      <th></th>\n",
       "      <th></th>\n",
       "      <th></th>\n",
       "      <th></th>\n",
       "    </tr>\n",
       "  </thead>\n",
       "  <tbody>\n",
       "    <tr>\n",
       "      <th>10th</th>\n",
       "      <td>4.0</td>\n",
       "      <td>83.0</td>\n",
       "      <td>87.0</td>\n",
       "      <td>0.045977</td>\n",
       "    </tr>\n",
       "    <tr>\n",
       "      <th>11th</th>\n",
       "      <td>11.0</td>\n",
       "      <td>81.0</td>\n",
       "      <td>92.0</td>\n",
       "      <td>0.119565</td>\n",
       "    </tr>\n",
       "    <tr>\n",
       "      <th>12th</th>\n",
       "      <td>4.0</td>\n",
       "      <td>44.0</td>\n",
       "      <td>48.0</td>\n",
       "      <td>0.083333</td>\n",
       "    </tr>\n",
       "    <tr>\n",
       "      <th>1st-4th</th>\n",
       "      <td>NaN</td>\n",
       "      <td>8.0</td>\n",
       "      <td>NaN</td>\n",
       "      <td>NaN</td>\n",
       "    </tr>\n",
       "    <tr>\n",
       "      <th>5th-6th</th>\n",
       "      <td>4.0</td>\n",
       "      <td>23.0</td>\n",
       "      <td>27.0</td>\n",
       "      <td>0.148148</td>\n",
       "    </tr>\n",
       "  </tbody>\n",
       "</table>\n",
       "</div>"
      ],
      "text/plain": [
       "gender     Female  Male   tot      perc\n",
       "education                              \n",
       "10th          4.0  83.0  87.0  0.045977\n",
       "11th         11.0  81.0  92.0  0.119565\n",
       "12th          4.0  44.0  48.0  0.083333\n",
       "1st-4th       NaN   8.0   NaN       NaN\n",
       "5th-6th       4.0  23.0  27.0  0.148148"
      ]
     },
     "execution_count": 67,
     "metadata": {},
     "output_type": "execute_result"
    }
   ],
   "source": [
    "edu.head()"
   ]
  },
  {
   "cell_type": "code",
   "execution_count": 68,
   "id": "3a04b476",
   "metadata": {},
   "outputs": [
    {
     "data": {
      "text/plain": [
       "Text(0.5, 1.0, 'High Income women education')"
      ]
     },
     "execution_count": 68,
     "metadata": {},
     "output_type": "execute_result"
    },
    {
     "data": {
      "image/png": "[encoded data removed]",
      "text/plain": [
       "<Figure size 432x288 with 1 Axes>"
      ]
     },
     "metadata": {
      "needs_background": "light"
     },
     "output_type": "display_data"
    }
   ],
   "source": [
    "edu.perc.sort_values().plot(kind = 'bar')\n",
    "plt.title('High Income women education')"
   ]
  },
  {
   "cell_type": "markdown",
   "id": "5b2b636d",
   "metadata": {},
   "source": [
    "### Feature analysis - Occupation"
   ]
  },
  {
   "cell_type": "code",
   "execution_count": 69,
   "id": "1ca8a88e",
   "metadata": {},
   "outputs": [],
   "source": [
    "occ = high_income.groupby(['occupation', 'gender']).size().reset_index().pivot(columns = 'gender',\n",
    "                                                                                 index = 'occupation',\n",
    "                                                                                 values = 0)"
   ]
  },
  {
   "cell_type": "code",
   "execution_count": 72,
   "id": "fee7f8ab",
   "metadata": {},
   "outputs": [],
   "source": [
    "occ['tot'] = occ['Female'] + occ['Male']\n",
    "occ['perc']= occ['Female'] /occ['tot']"
   ]
  },
  {
   "cell_type": "code",
   "execution_count": 74,
   "id": "cecfba1c",
   "metadata": {},
   "outputs": [
    {
     "data": {
      "text/plain": [
       "Text(0.5, 1.0, 'High Income women occupation')"
      ]
     },
     "execution_count": 74,
     "metadata": {},
     "output_type": "execute_result"
    },
    {
     "data": {
      "image/png": "[encoded data removed]",
      "text/plain": [
       "<Figure size 432x288 with 1 Axes>"
      ]
     },
     "metadata": {
      "needs_background": "light"
     },
     "output_type": "display_data"
    }
   ],
   "source": [
    "occ.perc.sort_values().plot(kind = 'bar')\n",
    "plt.title('High Income women occupation')"
   ]
  },
  {
   "cell_type": "markdown",
   "id": "6413834d",
   "metadata": {},
   "source": [
    "### Hours per week"
   ]
  },
  {
   "cell_type": "code",
   "execution_count": 77,
   "id": "bc561f26",
   "metadata": {},
   "outputs": [
    {
     "name": "stderr",
     "output_type": "stream",
     "text": [
      "/Users/judith/opt/anaconda3/lib/python3.7/site-packages/seaborn/distributions.py:2557: FutureWarning: `distplot` is a deprecated function and will be removed in a future version. Please adapt your code to use either `displot` (a figure-level function with similar flexibility) or `histplot` (an axes-level function for histograms).\n",
      "  warnings.warn(msg, FutureWarning)\n"
     ]
    },
    {
     "data": {
      "text/plain": [
       "Text(0.5, 1.0, 'hours_per_week distribution for high income')"
      ]
     },
     "execution_count": 77,
     "metadata": {},
     "output_type": "execute_result"
    },
    {
     "data": {
      "image/png": "[encoded data removed]",
      "text/plain": [
       "<Figure size 432x288 with 1 Axes>"
      ]
     },
     "metadata": {
      "needs_background": "light"
     },
     "output_type": "display_data"
    }
   ],
   "source": [
    "sns.distplot(high_income.hours_per_week)\n",
    "plt.title('hours_per_week distribution for high income')"
   ]
  },
  {
   "cell_type": "code",
   "execution_count": 80,
   "id": "aa0a6f37",
   "metadata": {},
   "outputs": [
    {
     "name": "stderr",
     "output_type": "stream",
     "text": [
      "/Users/judith/opt/anaconda3/lib/python3.7/site-packages/seaborn/distributions.py:2557: FutureWarning: `distplot` is a deprecated function and will be removed in a future version. Please adapt your code to use either `displot` (a figure-level function with similar flexibility) or `histplot` (an axes-level function for histograms).\n",
      "  warnings.warn(msg, FutureWarning)\n"
     ]
    },
    {
     "data": {
      "text/plain": [
       "Text(0.5, 1.0, 'hours_per_week distribution for women in workforce')"
      ]
     },
     "execution_count": 80,
     "metadata": {},
     "output_type": "execute_result"
    },
    {
     "data": {
      "image/png": "[encoded data removed]",
      "text/plain": [
       "<Figure size 432x288 with 1 Axes>"
      ]
     },
     "metadata": {
      "needs_background": "light"
     },
     "output_type": "display_data"
    }
   ],
   "source": [
    "sns.distplot(women.hours_per_week)\n",
    "plt.title('hours_per_week distribution for women in workforce')"
   ]
  },
  {
   "cell_type": "markdown",
   "id": "0b3a80c9",
   "metadata": {},
   "source": [
    "### Marital status"
   ]
  },
  {
   "cell_type": "code",
   "execution_count": 81,
   "id": "06930922",
   "metadata": {},
   "outputs": [],
   "source": [
    "marital = high_income.groupby(['marital_status', 'gender']).size().reset_index().pivot(columns = 'gender',\n",
    "                                                                                 index = 'marital_status',\n",
    "                                                                                 values = 0)"
   ]
  },
  {
   "cell_type": "code",
   "execution_count": 82,
   "id": "f4a3a381",
   "metadata": {},
   "outputs": [],
   "source": [
    "marital['tot'] = marital['Female'] + marital['Male']\n",
    "marital['perc']= marital['Female'] /marital['tot']"
   ]
  },
  {
   "cell_type": "code",
   "execution_count": 83,
   "id": "c98205ab",
   "metadata": {},
   "outputs": [
    {
     "data": {
      "text/plain": [
       "Text(0.5, 1.0, 'High Income women marital status')"
      ]
     },
     "execution_count": 83,
     "metadata": {},
     "output_type": "execute_result"
    },
    {
     "data": {
      "image/png": "[encoded data removed]",
      "text/plain": [
       "<Figure size 432x288 with 1 Axes>"
      ]
     },
     "metadata": {
      "needs_background": "light"
     },
     "output_type": "display_data"
    }
   ],
   "source": [
    "marital.perc.sort_values().plot(kind = 'bar')\n",
    "plt.title('High Income women marital status')"
   ]
  }
 ],
 "metadata": {
  "kernelspec": {
   "display_name": "Python 3",
   "language": "python",
   "name": "python3"
  },
  "language_info": {
   "codemirror_mode": {
    "name": "ipython",
    "version": 3
   },
   "file_extension": ".py",
   "mimetype": "text/x-python",
   "name": "python",
   "nbconvert_exporter": "python",
   "pygments_lexer": "ipython3",
   "version": "3.7.7"
  }
 },
 "nbformat": 4,
 "nbformat_minor": 5
}
